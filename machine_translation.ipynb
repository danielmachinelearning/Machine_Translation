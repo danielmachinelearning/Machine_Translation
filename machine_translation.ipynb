{
 "cells": [
  {
   "cell_type": "markdown",
   "metadata": {
    "collapsed": true
   },
   "source": [
    "# Artificial Intelligence Nanodegree\n",
    "## Machine Translation Project\n",
    "In this notebook, sections that end with **'(IMPLEMENTATION)'** in the header indicate that the following blocks of code will require additional functionality which you must provide. Please be sure to read the instructions carefully!\n",
    "\n",
    "## Introduction\n",
    "In this notebook, you will build a deep neural network that functions as part of an end-to-end machine translation pipeline. Your completed pipeline will accept English text as input and return the French translation.\n",
    "\n",
    "- **Preprocess** - You'll convert text to sequence of integers.\n",
    "- **Models** Create models which accepts a sequence of integers as input and returns a probability distribution over possible translations. After learning about the basic types of neural networks that are often used for machine translation, you will engage in your own investigations, to design your own model!\n",
    "- **Prediction** Run the model on English text."
   ]
  },
  {
   "cell_type": "code",
   "execution_count": 1,
   "metadata": {},
   "outputs": [],
   "source": [
    "%load_ext autoreload\n",
    "%aimport helper, tests\n",
    "%autoreload 1"
   ]
  },
  {
   "cell_type": "code",
   "execution_count": 2,
   "metadata": {},
   "outputs": [
    {
     "name": "stderr",
     "output_type": "stream",
     "text": [
      "Using TensorFlow backend.\n"
     ]
    }
   ],
   "source": [
    "import collections\n",
    "\n",
    "import helper\n",
    "import numpy as np\n",
    "import project_tests as tests\n",
    "\n",
    "from keras.preprocessing.text import Tokenizer\n",
    "from keras.preprocessing.sequence import pad_sequences\n",
    "from keras.models import Model\n",
    "from keras.layers import GRU, Input, Dense, TimeDistributed, Activation, RepeatVector, Bidirectional\n",
    "from keras.layers.embeddings import Embedding\n",
    "from keras.optimizers import Adam\n",
    "from keras.losses import sparse_categorical_crossentropy"
   ]
  },
  {
   "cell_type": "markdown",
   "metadata": {},
   "source": [
    "### Verify access to the GPU\n",
    "The following test applies only if you expect to be using a GPU, e.g., while running in a Udacity Workspace or using an AWS instance with GPU support. Run the next cell, and verify that the device_type is \"GPU\".\n",
    "- If the device is not GPU & you are running from a Udacity Workspace, then save your workspace with the icon at the top, then click \"enable\" at the bottom of the workspace.\n",
    "- If the device is not GPU & you are running from an AWS instance, then refer to the cloud computing instructions in the classroom to verify your setup steps."
   ]
  },
  {
   "cell_type": "code",
   "execution_count": 3,
   "metadata": {},
   "outputs": [
    {
     "name": "stdout",
     "output_type": "stream",
     "text": [
      "[name: \"/cpu:0\"\n",
      "device_type: \"CPU\"\n",
      "memory_limit: 268435456\n",
      "locality {\n",
      "}\n",
      "incarnation: 13559357077828326432\n",
      ", name: \"/gpu:0\"\n",
      "device_type: \"GPU\"\n",
      "memory_limit: 357302272\n",
      "locality {\n",
      "  bus_id: 1\n",
      "}\n",
      "incarnation: 8154873389433722440\n",
      "physical_device_desc: \"device: 0, name: Tesla K80, pci bus id: 0000:00:04.0\"\n",
      "]\n"
     ]
    }
   ],
   "source": [
    "from tensorflow.python.client import device_lib\n",
    "print(device_lib.list_local_devices())"
   ]
  },
  {
   "cell_type": "markdown",
   "metadata": {},
   "source": [
    "## Dataset\n",
    "We begin by investigating the dataset that will be used to train and evaluate your pipeline.  The most common datasets used for machine translation are from [WMT](http://www.statmt.org/).  However, that will take a long time to train a neural network on.  We'll be using a dataset we created for this project that contains a small vocabulary.  You'll be able to train your model in a reasonable time with this dataset.\n",
    "### Load Data\n",
    "The data is located in `data/small_vocab_en` and `data/small_vocab_fr`. The `small_vocab_en` file contains English sentences with their French translations in the `small_vocab_fr` file. Load the English and French data from these files from running the cell below."
   ]
  },
  {
   "cell_type": "code",
   "execution_count": 4,
   "metadata": {},
   "outputs": [
    {
     "name": "stdout",
     "output_type": "stream",
     "text": [
      "Dataset Loaded\n"
     ]
    }
   ],
   "source": [
    "# Load English data\n",
    "english_sentences = helper.load_data('data/small_vocab_en')\n",
    "# Load French data\n",
    "french_sentences = helper.load_data('data/small_vocab_fr')\n",
    "\n",
    "print('Dataset Loaded')"
   ]
  },
  {
   "cell_type": "markdown",
   "metadata": {},
   "source": [
    "### Files\n",
    "Each line in `small_vocab_en` contains an English sentence with the respective translation in each line of `small_vocab_fr`.  View the first two lines from each file."
   ]
  },
  {
   "cell_type": "code",
   "execution_count": 5,
   "metadata": {},
   "outputs": [
    {
     "name": "stdout",
     "output_type": "stream",
     "text": [
      "small_vocab_en Line 1:  new jersey is sometimes quiet during autumn , and it is snowy in april .\n",
      "small_vocab_fr Line 1:  new jersey est parfois calme pendant l' automne , et il est neigeux en avril .\n",
      "small_vocab_en Line 2:  the united states is usually chilly during july , and it is usually freezing in november .\n",
      "small_vocab_fr Line 2:  les états-unis est généralement froid en juillet , et il gèle habituellement en novembre .\n"
     ]
    }
   ],
   "source": [
    "for sample_i in range(2):\n",
    "    print('small_vocab_en Line {}:  {}'.format(sample_i + 1, english_sentences[sample_i]))\n",
    "    print('small_vocab_fr Line {}:  {}'.format(sample_i + 1, french_sentences[sample_i]))"
   ]
  },
  {
   "cell_type": "markdown",
   "metadata": {},
   "source": [
    "From looking at the sentences, you can see they have been preprocessed already.  The puncuations have been delimited using spaces. All the text have been converted to lowercase.  This should save you some time, but the text requires more preprocessing.\n",
    "### Vocabulary\n",
    "The complexity of the problem is determined by the complexity of the vocabulary.  A more complex vocabulary is a more complex problem.  Let's look at the complexity of the dataset we'll be working with."
   ]
  },
  {
   "cell_type": "code",
   "execution_count": 6,
   "metadata": {},
   "outputs": [
    {
     "name": "stdout",
     "output_type": "stream",
     "text": [
      "1823250 English words.\n",
      "227 unique English words.\n",
      "10 Most common words in the English dataset:\n",
      "\"is\" \",\" \".\" \"in\" \"it\" \"during\" \"the\" \"but\" \"and\" \"sometimes\"\n",
      "\n",
      "1961295 French words.\n",
      "355 unique French words.\n",
      "10 Most common words in the French dataset:\n",
      "\"est\" \".\" \",\" \"en\" \"il\" \"les\" \"mais\" \"et\" \"la\" \"parfois\"\n"
     ]
    }
   ],
   "source": [
    "english_words_counter = collections.Counter([word for sentence in english_sentences for word in sentence.split()])\n",
    "french_words_counter = collections.Counter([word for sentence in french_sentences for word in sentence.split()])\n",
    "\n",
    "print('{} English words.'.format(len([word for sentence in english_sentences for word in sentence.split()])))\n",
    "print('{} unique English words.'.format(len(english_words_counter)))\n",
    "print('10 Most common words in the English dataset:')\n",
    "print('\"' + '\" \"'.join(list(zip(*english_words_counter.most_common(10)))[0]) + '\"')\n",
    "print()\n",
    "print('{} French words.'.format(len([word for sentence in french_sentences for word in sentence.split()])))\n",
    "print('{} unique French words.'.format(len(french_words_counter)))\n",
    "print('10 Most common words in the French dataset:')\n",
    "print('\"' + '\" \"'.join(list(zip(*french_words_counter.most_common(10)))[0]) + '\"')"
   ]
  },
  {
   "cell_type": "markdown",
   "metadata": {},
   "source": [
    "For comparison, _Alice's Adventures in Wonderland_ contains 2,766 unique words of a total of 15,500 words.\n",
    "## Preprocess\n",
    "For this project, you won't use text data as input to your model. Instead, you'll convert the text into sequences of integers using the following preprocess methods:\n",
    "1. Tokenize the words into ids\n",
    "2. Add padding to make all the sequences the same length.\n",
    "\n",
    "Time to start preprocessing the data...\n",
    "### Tokenize (IMPLEMENTATION)\n",
    "For a neural network to predict on text data, it first has to be turned into data it can understand. Text data like \"dog\" is a sequence of ASCII character encodings.  Since a neural network is a series of multiplication and addition operations, the input data needs to be number(s).\n",
    "\n",
    "We can turn each character into a number or each word into a number.  These are called character and word ids, respectively.  Character ids are used for character level models that generate text predictions for each character.  A word level model uses word ids that generate text predictions for each word.  Word level models tend to learn better, since they are lower in complexity, so we'll use those.\n",
    "\n",
    "Turn each sentence into a sequence of words ids using Keras's [`Tokenizer`](https://keras.io/preprocessing/text/#tokenizer) function. Use this function to tokenize `english_sentences` and `french_sentences` in the cell below.\n",
    "\n",
    "Running the cell will run `tokenize` on sample data and show output for debugging."
   ]
  },
  {
   "cell_type": "code",
   "execution_count": 7,
   "metadata": {},
   "outputs": [
    {
     "name": "stdout",
     "output_type": "stream",
     "text": [
      "{'the': 1, 'quick': 2, 'a': 3, 'brown': 4, 'fox': 5, 'jumps': 6, 'over': 7, 'lazy': 8, 'dog': 9, 'by': 10, 'jove': 11, 'my': 12, 'study': 13, 'of': 14, 'lexicography': 15, 'won': 16, 'prize': 17, 'this': 18, 'is': 19, 'short': 20, 'sentence': 21}\n",
      "\n",
      "Sequence 1 in x\n",
      "  Input:  The quick brown fox jumps over the lazy dog .\n",
      "  Output: [1, 2, 4, 5, 6, 7, 1, 8, 9]\n",
      "Sequence 2 in x\n",
      "  Input:  By Jove , my quick study of lexicography won a prize .\n",
      "  Output: [10, 11, 12, 2, 13, 14, 15, 16, 3, 17]\n",
      "Sequence 3 in x\n",
      "  Input:  This is a short sentence .\n",
      "  Output: [18, 19, 3, 20, 21]\n"
     ]
    }
   ],
   "source": [
    "def tokenize(x):\n",
    "    \"\"\"\n",
    "    Tokenize x\n",
    "    :param x: List of sentences/strings to be tokenized\n",
    "    :return: Tuple of (tokenized x data, tokenizer used to tokenize x)\n",
    "    \"\"\"\n",
    "    # TODO: Implement\n",
    "    t = Tokenizer()\n",
    "    t.fit_on_texts(x)\n",
    "    result = t.texts_to_sequences(x)\n",
    "    return result, t\n",
    "\n",
    "tests.test_tokenize(tokenize)\n",
    "\n",
    "# Tokenize Example output\n",
    "text_sentences = [\n",
    "    'The quick brown fox jumps over the lazy dog .',\n",
    "    'By Jove , my quick study of lexicography won a prize .',\n",
    "    'This is a short sentence .']\n",
    "text_tokenized, text_tokenizer = tokenize(text_sentences)\n",
    "print(text_tokenizer.word_index)\n",
    "print()\n",
    "for sample_i, (sent, token_sent) in enumerate(zip(text_sentences, text_tokenized)):\n",
    "    print('Sequence {} in x'.format(sample_i + 1))\n",
    "    print('  Input:  {}'.format(sent))\n",
    "    print('  Output: {}'.format(token_sent))"
   ]
  },
  {
   "cell_type": "markdown",
   "metadata": {},
   "source": [
    "### Padding (IMPLEMENTATION)\n",
    "When batching the sequence of word ids together, each sequence needs to be the same length.  Since sentences are dynamic in length, we can add padding to the end of the sequences to make them the same length.\n",
    "\n",
    "Make sure all the English sequences have the same length and all the French sequences have the same length by adding padding to the **end** of each sequence using Keras's [`pad_sequences`](https://keras.io/preprocessing/sequence/#pad_sequences) function."
   ]
  },
  {
   "cell_type": "code",
   "execution_count": 8,
   "metadata": {},
   "outputs": [
    {
     "name": "stdout",
     "output_type": "stream",
     "text": [
      "Sequence 1 in x\n",
      "  Input:  [1 2 4 5 6 7 1 8 9]\n",
      "  Output: [1 2 4 5 6 7 1 8 9 0]\n",
      "Sequence 2 in x\n",
      "  Input:  [10 11 12  2 13 14 15 16  3 17]\n",
      "  Output: [10 11 12  2 13 14 15 16  3 17]\n",
      "Sequence 3 in x\n",
      "  Input:  [18 19  3 20 21]\n",
      "  Output: [18 19  3 20 21  0  0  0  0  0]\n"
     ]
    }
   ],
   "source": [
    "def pad(x, length=None):\n",
    "    \"\"\"\n",
    "    Pad x\n",
    "    :param x: List of sequences.\n",
    "    :param length: Length to pad the sequence to.  If None, use length of longest sequence in x.\n",
    "    :return: Padded numpy array of sequences\n",
    "    \"\"\"\n",
    "    # TODO: Implement\n",
    "    max_len = max(len(l) for l in x)\n",
    "    if (length == None):\n",
    "        X = pad_sequences(x, maxlen=max_len, padding='post')\n",
    "    else:\n",
    "        X = pad_sequences(x, maxlen=length, padding='post')\n",
    "    return X\n",
    "tests.test_pad(pad)\n",
    "\n",
    "# Pad Tokenized output\n",
    "test_pad = pad(text_tokenized)\n",
    "for sample_i, (token_sent, pad_sent) in enumerate(zip(text_tokenized, test_pad)):\n",
    "    print('Sequence {} in x'.format(sample_i + 1))\n",
    "    print('  Input:  {}'.format(np.array(token_sent)))\n",
    "    print('  Output: {}'.format(pad_sent))"
   ]
  },
  {
   "cell_type": "markdown",
   "metadata": {},
   "source": [
    "### Preprocess Pipeline\n",
    "Your focus for this project is to build neural network architecture, so we won't ask you to create a preprocess pipeline.  Instead, we've provided you with the implementation of the `preprocess` function."
   ]
  },
  {
   "cell_type": "code",
   "execution_count": 9,
   "metadata": {},
   "outputs": [
    {
     "name": "stdout",
     "output_type": "stream",
     "text": [
      "Data Preprocessed\n",
      "Max English sentence length: 15\n",
      "Max French sentence length: 21\n",
      "English vocabulary size: 199\n",
      "French vocabulary size: 344\n"
     ]
    }
   ],
   "source": [
    "def preprocess(x, y):\n",
    "    \"\"\"\n",
    "    Preprocess x and y\n",
    "    :param x: Feature List of sentences\n",
    "    :param y: Label List of sentences\n",
    "    :return: Tuple of (Preprocessed x, Preprocessed y, x tokenizer, y tokenizer)\n",
    "    \"\"\"\n",
    "    preprocess_x, x_tk = tokenize(x)\n",
    "    preprocess_y, y_tk = tokenize(y)\n",
    "\n",
    "    preprocess_x = pad(preprocess_x)\n",
    "    preprocess_y = pad(preprocess_y)\n",
    "\n",
    "    # Keras's sparse_categorical_crossentropy function requires the labels to be in 3 dimensions\n",
    "    preprocess_y = preprocess_y.reshape(*preprocess_y.shape, 1)\n",
    "\n",
    "    return preprocess_x, preprocess_y, x_tk, y_tk\n",
    "\n",
    "preproc_english_sentences, preproc_french_sentences, english_tokenizer, french_tokenizer =\\\n",
    "    preprocess(english_sentences, french_sentences)\n",
    "    \n",
    "max_english_sequence_length = preproc_english_sentences.shape[1]\n",
    "max_french_sequence_length = preproc_french_sentences.shape[1]\n",
    "english_vocab_size = len(english_tokenizer.word_index)\n",
    "french_vocab_size = len(french_tokenizer.word_index)\n",
    "\n",
    "print('Data Preprocessed')\n",
    "print(\"Max English sentence length:\", max_english_sequence_length)\n",
    "print(\"Max French sentence length:\", max_french_sequence_length)\n",
    "print(\"English vocabulary size:\", english_vocab_size)\n",
    "print(\"French vocabulary size:\", french_vocab_size)"
   ]
  },
  {
   "cell_type": "markdown",
   "metadata": {},
   "source": [
    "## Models\n",
    "In this section, you will experiment with various neural network architectures.\n",
    "You will begin by training four relatively simple architectures.\n",
    "- Model 1 is a simple RNN\n",
    "- Model 2 is a RNN with Embedding\n",
    "- Model 3 is a Bidirectional RNN\n",
    "- Model 4 is an optional Encoder-Decoder RNN\n",
    "\n",
    "After experimenting with the four simple architectures, you will construct a deeper architecture that is designed to outperform all four models.\n",
    "### Ids Back to Text\n",
    "The neural network will be translating the input to words ids, which isn't the final form we want.  We want the French translation.  The function `logits_to_text` will bridge the gab between the logits from the neural network to the French translation.  You'll be using this function to better understand the output of the neural network."
   ]
  },
  {
   "cell_type": "code",
   "execution_count": 10,
   "metadata": {},
   "outputs": [
    {
     "name": "stdout",
     "output_type": "stream",
     "text": [
      "`logits_to_text` function loaded.\n"
     ]
    }
   ],
   "source": [
    "def logits_to_text(logits, tokenizer):\n",
    "    \"\"\"\n",
    "    Turn logits from a neural network into text using the tokenizer\n",
    "    :param logits: Logits from a neural network\n",
    "    :param tokenizer: Keras Tokenizer fit on the labels\n",
    "    :return: String that represents the text of the logits\n",
    "    \"\"\"\n",
    "    index_to_words = {id: word for word, id in tokenizer.word_index.items()}\n",
    "    index_to_words[0] = '<PAD>'\n",
    "\n",
    "    return ' '.join([index_to_words[prediction] for prediction in np.argmax(logits, 1)])\n",
    "\n",
    "print('`logits_to_text` function loaded.')"
   ]
  },
  {
   "cell_type": "markdown",
   "metadata": {},
   "source": [
    "### Model 1: RNN (IMPLEMENTATION)\n",
    "![RNN](images/rnn.png)\n",
    "A basic RNN model is a good baseline for sequence data.  In this model, you'll build a RNN that translates English to French."
   ]
  },
  {
   "cell_type": "code",
   "execution_count": 11,
   "metadata": {},
   "outputs": [
    {
     "name": "stdout",
     "output_type": "stream",
     "text": [
      "Train on 110288 samples, validate on 27573 samples\n",
      "Epoch 1/10\n",
      "110288/110288 [==============================] - 10s 86us/step - loss: 1.8972 - acc: 0.5639 - val_loss: nan - val_acc: 0.6207\n",
      "Epoch 2/10\n",
      "110288/110288 [==============================] - 8s 69us/step - loss: 1.3720 - acc: 0.6315 - val_loss: nan - val_acc: 0.6384\n",
      "Epoch 3/10\n",
      "110288/110288 [==============================] - 8s 69us/step - loss: 1.2904 - acc: 0.6395 - val_loss: nan - val_acc: 0.6399\n",
      "Epoch 4/10\n",
      "110288/110288 [==============================] - 8s 70us/step - loss: 1.2534 - acc: 0.6454 - val_loss: nan - val_acc: 0.6425\n",
      "Epoch 5/10\n",
      "110288/110288 [==============================] - 8s 69us/step - loss: 1.2152 - acc: 0.6546 - val_loss: nan - val_acc: 0.6670\n",
      "Epoch 6/10\n",
      "110288/110288 [==============================] - 8s 69us/step - loss: 1.2115 - acc: 0.6575 - val_loss: nan - val_acc: 0.6580\n",
      "Epoch 7/10\n",
      "110288/110288 [==============================] - 8s 68us/step - loss: 1.1850 - acc: 0.6615 - val_loss: nan - val_acc: 0.6696\n",
      "Epoch 8/10\n",
      "110288/110288 [==============================] - 8s 69us/step - loss: 1.1707 - acc: 0.6620 - val_loss: nan - val_acc: 0.6718\n",
      "Epoch 9/10\n",
      "110288/110288 [==============================] - 8s 69us/step - loss: 1.1623 - acc: 0.6682 - val_loss: nan - val_acc: 0.6716\n",
      "Epoch 10/10\n",
      "110288/110288 [==============================] - 8s 69us/step - loss: 1.1510 - acc: 0.6693 - val_loss: nan - val_acc: 0.6768\n",
      "new jersey est parfois calme en l' et et est est est en <PAD> <PAD> <PAD> <PAD> <PAD> <PAD> <PAD> <PAD>\n"
     ]
    }
   ],
   "source": [
    "def simple_model(input_shape, output_sequence_length, english_vocab_size, french_vocab_size):\n",
    "    \"\"\"\n",
    "    Build and train a basic RNN on x and y\n",
    "    :param input_shape: Tuple of input shape\n",
    "    :param output_sequence_length: Length of output sequence\n",
    "    :param english_vocab_size: Number of unique English words in the dataset\n",
    "    :param french_vocab_size: Number of unique French words in the dataset\n",
    "    :return: Keras model built, but not trained\n",
    "    \"\"\"\n",
    "    # TODO: Build the layers\n",
    "    #model = None    \n",
    "    inputs = Input(shape=(input_shape)[1:])\n",
    "    x = GRU(100, return_sequences=True)(inputs)\n",
    "    x = Dense(french_vocab_size)(x)\n",
    "    predictions = Activation('softmax')(x)\n",
    "\n",
    "    model = Model(inputs=inputs, outputs=predictions)\n",
    "    model.compile(loss=sparse_categorical_crossentropy,\n",
    "                  optimizer=Adam(0.1),\n",
    "                  metrics=['accuracy'])\n",
    "    return model\n",
    "tests.test_simple_model(simple_model)\n",
    "\n",
    "# Reshaping the input to work with a basic RNN\n",
    "tmp_x = pad(preproc_english_sentences, max_french_sequence_length)\n",
    "tmp_x = tmp_x.reshape((-1, preproc_french_sentences.shape[-2], 1))\n",
    "#print(french_vocab_size)\n",
    "\n",
    "# Train the neural network\n",
    "simple_rnn_model = simple_model(\n",
    "    tmp_x.shape,\n",
    "    max_french_sequence_length,\n",
    "    english_vocab_size,\n",
    "    french_vocab_size)\n",
    "simple_rnn_model.fit(tmp_x, preproc_french_sentences, batch_size=1024, epochs=10, validation_split=0.2)\n",
    "\n",
    "# Print prediction(s)\n",
    "print(logits_to_text(simple_rnn_model.predict(tmp_x[:1])[0], french_tokenizer))"
   ]
  },
  {
   "cell_type": "markdown",
   "metadata": {},
   "source": [
    "### Model 2: Embedding (IMPLEMENTATION)\n",
    "![RNN](images/embedding.png)\n",
    "You've turned the words into ids, but there's a better representation of a word.  This is called word embeddings.  An embedding is a vector representation of the word that is close to similar words in n-dimensional space, where the n represents the size of the embedding vectors.\n",
    "\n",
    "In this model, you'll create a RNN model using embedding."
   ]
  },
  {
   "cell_type": "code",
   "execution_count": 12,
   "metadata": {
    "scrolled": false
   },
   "outputs": [
    {
     "name": "stdout",
     "output_type": "stream",
     "text": [
      "Train on 110288 samples, validate on 27573 samples\n",
      "Epoch 1/10\n",
      "110288/110288 [==============================] - 10s 90us/step - loss: 2.0342 - acc: 0.6110 - val_loss: 0.9417 - val_acc: 0.7269\n",
      "Epoch 2/10\n",
      "110288/110288 [==============================] - 10s 87us/step - loss: 0.8484 - acc: 0.7445 - val_loss: 0.7349 - val_acc: 0.7750\n",
      "Epoch 3/10\n",
      "110288/110288 [==============================] - 10s 87us/step - loss: 0.7199 - acc: 0.7774 - val_loss: 0.6661 - val_acc: 0.7965\n",
      "Epoch 4/10\n",
      "110288/110288 [==============================] - 10s 87us/step - loss: 0.6644 - acc: 0.7967 - val_loss: 0.6128 - val_acc: 0.8141\n",
      "Epoch 5/10\n",
      "110288/110288 [==============================] - 10s 87us/step - loss: 0.6126 - acc: 0.8111 - val_loss: 0.5735 - val_acc: 0.8228\n",
      "Epoch 6/10\n",
      "110288/110288 [==============================] - 10s 87us/step - loss: 0.5931 - acc: 0.8176 - val_loss: 0.5705 - val_acc: 0.8205\n",
      "Epoch 7/10\n",
      "110288/110288 [==============================] - 10s 87us/step - loss: 0.5706 - acc: 0.8243 - val_loss: 0.5409 - val_acc: 0.8327\n",
      "Epoch 8/10\n",
      "110288/110288 [==============================] - 10s 87us/step - loss: 0.5998 - acc: 0.8177 - val_loss: 0.5561 - val_acc: 0.8323\n",
      "Epoch 9/10\n",
      "110288/110288 [==============================] - 10s 87us/step - loss: 0.5704 - acc: 0.8265 - val_loss: 0.5310 - val_acc: 0.8412\n",
      "Epoch 10/10\n",
      "110288/110288 [==============================] - 10s 87us/step - loss: 0.5554 - acc: 0.8314 - val_loss: 0.5280 - val_acc: 0.8380\n",
      "new jersey est parfois calme en cours et il est est est avril en <PAD> <PAD> <PAD> <PAD> <PAD> <PAD> <PAD>\n"
     ]
    }
   ],
   "source": [
    "def embed_model(input_shape, output_sequence_length, english_vocab_size, french_vocab_size):\n",
    "    \"\"\"\n",
    "    Build and train a RNN model using word embedding on x and y\n",
    "    :param input_shape: Tuple of input shape\n",
    "    :param output_sequence_length: Length of output sequence\n",
    "    :param english_vocab_size: Number of unique English words in the dataset\n",
    "    :param french_vocab_size: Number of unique French words in the dataset\n",
    "    :return: Keras model built, but not trained\n",
    "    \"\"\"\n",
    "    # TODO: Implement\n",
    "    from keras.models import Sequential\n",
    "    #model = None    \n",
    "    model = Sequential()\n",
    "    model.add(Embedding(max(english_vocab_size, french_vocab_size), 128, input_length=output_sequence_length))\n",
    "    model.add(GRU(128, dropout=0.1, return_sequences=True))\n",
    "    model.add(Dense(french_vocab_size, activation='softmax'))    \n",
    "    model.compile(loss=sparse_categorical_crossentropy,\n",
    "                  optimizer=Adam(0.1),\n",
    "                  metrics=['accuracy'])\n",
    "        \n",
    "    return model\n",
    "tests.test_embed_model(embed_model)\n",
    "\n",
    "\n",
    "# TODO: Reshape the input\n",
    "tmp_x = pad(preproc_english_sentences, preproc_french_sentences.shape[1])\n",
    "\n",
    "# TODO: Train the neural network\n",
    "embed_rnn_model = embed_model(\n",
    "    tmp_x.shape,\n",
    "    preproc_french_sentences.shape[1],\n",
    "    len(english_tokenizer.word_index)+1,\n",
    "    len(french_tokenizer.word_index)+1)\n",
    "\n",
    "embed_rnn_model.fit(tmp_x, preproc_french_sentences, batch_size=1024, epochs=10, validation_split=0.2)\n",
    "# TODO: Print prediction(s)\n",
    "print(logits_to_text(embed_rnn_model.predict(tmp_x[:1])[0], french_tokenizer))"
   ]
  },
  {
   "cell_type": "markdown",
   "metadata": {},
   "source": [
    "### Model 3: Bidirectional RNNs (IMPLEMENTATION)\n",
    "![RNN](images/bidirectional.png)\n",
    "One restriction of a RNN is that it can't see the future input, only the past.  This is where bidirectional recurrent neural networks come in.  They are able to see the future data."
   ]
  },
  {
   "cell_type": "code",
   "execution_count": 13,
   "metadata": {},
   "outputs": [
    {
     "name": "stdout",
     "output_type": "stream",
     "text": [
      "Train on 110288 samples, validate on 27573 samples\n",
      "Epoch 1/20\n",
      "110288/110288 [==============================] - 12s 112us/step - loss: 3.3557 - acc: 0.5527 - val_loss: 2.5504 - val_acc: 0.6076\n",
      "Epoch 2/20\n",
      "110288/110288 [==============================] - 12s 107us/step - loss: 2.3930 - acc: 0.6384 - val_loss: 2.4720 - val_acc: 0.6067\n",
      "Epoch 3/20\n",
      "110288/110288 [==============================] - 12s 106us/step - loss: 2.3603 - acc: 0.6385 - val_loss: 2.5747 - val_acc: 0.5941\n",
      "Epoch 4/20\n",
      "110288/110288 [==============================] - 12s 106us/step - loss: 2.3387 - acc: 0.6455 - val_loss: 2.6040 - val_acc: 0.5965\n",
      "Epoch 5/20\n",
      "110288/110288 [==============================] - 12s 106us/step - loss: 2.3495 - acc: 0.6402 - val_loss: 2.6059 - val_acc: 0.6072\n",
      "Epoch 6/20\n",
      "110288/110288 [==============================] - 12s 106us/step - loss: 2.3423 - acc: 0.6408 - val_loss: 2.5592 - val_acc: 0.6136\n",
      "Epoch 7/20\n",
      "110288/110288 [==============================] - 12s 107us/step - loss: 2.3405 - acc: 0.6419 - val_loss: 2.6126 - val_acc: 0.6066\n",
      "Epoch 8/20\n",
      "110288/110288 [==============================] - 12s 107us/step - loss: 2.2687 - acc: 0.6556 - val_loss: 2.6094 - val_acc: 0.5971\n",
      "Epoch 9/20\n",
      "110288/110288 [==============================] - 12s 107us/step - loss: 2.2561 - acc: 0.6541 - val_loss: 2.7540 - val_acc: 0.5976\n",
      "Epoch 10/20\n",
      "110288/110288 [==============================] - 12s 107us/step - loss: 2.3581 - acc: 0.6529 - val_loss: 2.7769 - val_acc: 0.5988\n",
      "Epoch 11/20\n",
      "110288/110288 [==============================] - 12s 106us/step - loss: 2.4113 - acc: 0.6495 - val_loss: 2.7783 - val_acc: 0.6014\n",
      "Epoch 12/20\n",
      "110288/110288 [==============================] - 12s 107us/step - loss: 2.3747 - acc: 0.6579 - val_loss: 2.8163 - val_acc: 0.5965\n",
      "Epoch 13/20\n",
      "110288/110288 [==============================] - 12s 106us/step - loss: 3.0831 - acc: 0.5950 - val_loss: 4.0676 - val_acc: 0.5518\n",
      "Epoch 14/20\n",
      "110288/110288 [==============================] - 12s 107us/step - loss: 3.8469 - acc: 0.5746 - val_loss: 3.7990 - val_acc: 0.5921\n",
      "Epoch 15/20\n",
      "110288/110288 [==============================] - 12s 106us/step - loss: 3.5696 - acc: 0.6294 - val_loss: 3.7329 - val_acc: 0.5937\n",
      "Epoch 16/20\n",
      "110288/110288 [==============================] - 12s 106us/step - loss: 3.5257 - acc: 0.6335 - val_loss: 3.7319 - val_acc: 0.5868\n",
      "Epoch 17/20\n",
      "110288/110288 [==============================] - 12s 106us/step - loss: 3.4725 - acc: 0.6333 - val_loss: 3.7690 - val_acc: 0.5778\n",
      "Epoch 18/20\n",
      "110288/110288 [==============================] - 12s 107us/step - loss: 3.4407 - acc: 0.6348 - val_loss: 3.7583 - val_acc: 0.5906\n",
      "Epoch 19/20\n",
      "110288/110288 [==============================] - 12s 107us/step - loss: 3.4559 - acc: 0.6310 - val_loss: 3.7746 - val_acc: 0.5817\n",
      "Epoch 20/20\n",
      "110288/110288 [==============================] - 12s 107us/step - loss: 3.5695 - acc: 0.6157 - val_loss: 3.8215 - val_acc: 0.5796\n",
      "new jersey est parfois froid en janvier mais il est est est en <PAD> <PAD> <PAD> <PAD> <PAD> <PAD> <PAD> <PAD>\n"
     ]
    }
   ],
   "source": [
    "def bd_model(input_shape, output_sequence_length, english_vocab_size, french_vocab_size):\n",
    "    \"\"\"\n",
    "    Build and train a bidirectional RNN model on x and y\n",
    "    :param input_shape: Tuple of input shape\n",
    "    :param output_sequence_length: Length of output sequence\n",
    "    :param english_vocab_size: Number of unique English words in the dataset\n",
    "    :param french_vocab_size: Number of unique French words in the dataset\n",
    "    :return: Keras model built, but not trained\n",
    "    \"\"\"\n",
    "    # TODO: Implement\n",
    "    from keras.models import Sequential\n",
    "    model = Sequential()\n",
    "    model.add(Bidirectional(GRU(128, return_sequences=True, dropout=0.1), input_shape=input_shape[1:]))\n",
    "    model.add(TimeDistributed(Dense(french_vocab_size, activation='softmax') ))\n",
    "    model.compile(loss=sparse_categorical_crossentropy,\n",
    "                  optimizer=Adam(0.1),\n",
    "                  metrics=['accuracy'])\n",
    "    \n",
    "    return model\n",
    "\n",
    "tests.test_bd_model(bd_model)\n",
    "\n",
    "\n",
    "# TODO: Train and Print prediction(s)\n",
    "tmp_x = pad(preproc_english_sentences, preproc_french_sentences.shape[1])\n",
    "tmp_x = tmp_x.reshape((-1, preproc_french_sentences.shape[-2], 1))\n",
    "\n",
    "bd_rnn_model = bd_model(tmp_x.shape, preproc_french_sentences.shape[1], len(english_tokenizer.word_index)+1, len(french_tokenizer.word_index)+1)\n",
    "bd_rnn_model.fit(tmp_x, preproc_french_sentences, batch_size=1024, epochs=20, validation_split=0.2)\n",
    "print(logits_to_text(bd_rnn_model.predict(tmp_x[:1])[0], french_tokenizer))"
   ]
  },
  {
   "cell_type": "markdown",
   "metadata": {},
   "source": [
    "### Model 4: Encoder-Decoder (OPTIONAL)\n",
    "Time to look at encoder-decoder models.  This model is made up of an encoder and decoder. The encoder creates a matrix representation of the sentence.  The decoder takes this matrix as input and predicts the translation as output.\n",
    "\n",
    "Create an encoder-decoder model in the cell below."
   ]
  },
  {
   "cell_type": "code",
   "execution_count": 14,
   "metadata": {},
   "outputs": [
    {
     "name": "stdout",
     "output_type": "stream",
     "text": [
      "Train on 110288 samples, validate on 27573 samples\n",
      "Epoch 1/20\n",
      "110288/110288 [==============================] - 12s 113us/step - loss: 3.2519 - acc: 0.4164 - val_loss: 2.3416 - val_acc: 0.4725\n",
      "Epoch 2/20\n",
      "110288/110288 [==============================] - 12s 105us/step - loss: 2.3894 - acc: 0.4715 - val_loss: 2.2040 - val_acc: 0.4933\n",
      "Epoch 3/20\n",
      "110288/110288 [==============================] - 12s 106us/step - loss: 2.3766 - acc: 0.4774 - val_loss: 2.3072 - val_acc: 0.4901\n",
      "Epoch 4/20\n",
      "110288/110288 [==============================] - 12s 106us/step - loss: 2.3633 - acc: 0.4780 - val_loss: 2.1330 - val_acc: 0.5048\n",
      "Epoch 5/20\n",
      "110288/110288 [==============================] - 12s 106us/step - loss: 4.4873 - acc: 0.3770 - val_loss: 8.9648 - val_acc: 0.2397\n",
      "Epoch 6/20\n",
      "110288/110288 [==============================] - 12s 105us/step - loss: 6.2334 - acc: 0.3306 - val_loss: 5.0533 - val_acc: 0.3355\n",
      "Epoch 7/20\n",
      "110288/110288 [==============================] - 12s 105us/step - loss: 4.7495 - acc: 0.3809 - val_loss: 4.4204 - val_acc: 0.4100\n",
      "Epoch 8/20\n",
      "110288/110288 [==============================] - 12s 106us/step - loss: 5.8525 - acc: 0.3778 - val_loss: 6.4631 - val_acc: 0.4211\n",
      "Epoch 9/20\n",
      "110288/110288 [==============================] - 12s 106us/step - loss: 6.1825 - acc: 0.4102 - val_loss: 6.2111 - val_acc: 0.4182\n",
      "Epoch 10/20\n",
      "110288/110288 [==============================] - 12s 106us/step - loss: 5.7340 - acc: 0.4115 - val_loss: 5.3409 - val_acc: 0.4164\n",
      "Epoch 11/20\n",
      "110288/110288 [==============================] - 12s 106us/step - loss: 5.1518 - acc: 0.4141 - val_loss: 5.2110 - val_acc: 0.3919\n",
      "Epoch 12/20\n",
      "110288/110288 [==============================] - 12s 105us/step - loss: 5.0420 - acc: 0.4153 - val_loss: 5.0689 - val_acc: 0.4216\n",
      "Epoch 13/20\n",
      "110288/110288 [==============================] - 12s 105us/step - loss: 4.8723 - acc: 0.4168 - val_loss: 4.8977 - val_acc: 0.4190\n",
      "Epoch 14/20\n",
      "110288/110288 [==============================] - 12s 106us/step - loss: 4.7913 - acc: 0.4105 - val_loss: 4.7233 - val_acc: 0.3955\n",
      "Epoch 15/20\n",
      "110288/110288 [==============================] - 12s 105us/step - loss: 5.4972 - acc: 0.3776 - val_loss: 7.9347 - val_acc: 0.2578\n",
      "Epoch 16/20\n",
      "110288/110288 [==============================] - 12s 105us/step - loss: 7.6089 - acc: 0.4021 - val_loss: 7.6085 - val_acc: 0.4226\n",
      "Epoch 17/20\n",
      "110288/110288 [==============================] - 12s 105us/step - loss: 7.3946 - acc: 0.4138 - val_loss: 7.6140 - val_acc: 0.4202\n",
      "Epoch 18/20\n",
      "110288/110288 [==============================] - 12s 104us/step - loss: 7.0360 - acc: 0.4013 - val_loss: 6.3849 - val_acc: 0.4216\n",
      "Epoch 19/20\n",
      "110288/110288 [==============================] - 11s 104us/step - loss: 6.3141 - acc: 0.3847 - val_loss: 6.0826 - val_acc: 0.4213\n",
      "Epoch 20/20\n",
      "110288/110288 [==============================] - 11s 104us/step - loss: 5.8309 - acc: 0.4046 - val_loss: 5.5531 - val_acc: 0.4230\n",
      "l' inde <PAD> <PAD> <PAD> <PAD> <PAD> <PAD> <PAD> <PAD> <PAD> <PAD> <PAD> <PAD> <PAD> <PAD> <PAD> <PAD> <PAD> <PAD> <PAD>\n"
     ]
    }
   ],
   "source": [
    "def encdec_model(input_shape, output_sequence_length, english_vocab_size, french_vocab_size):\n",
    "    \"\"\"\n",
    "    Build and train an encoder-decoder model on x and y\n",
    "    :param input_shape: Tuple of input shape\n",
    "    :param output_sequence_length: Length of output sequence\n",
    "    :param english_vocab_size: Number of unique English words in the dataset\n",
    "    :param french_vocab_size: Number of unique French words in the dataset\n",
    "    :return: Keras model built, but not trained\n",
    "    \"\"\"\n",
    "    # OPTIONAL: Implement\n",
    "    from keras.models import Sequential\n",
    "    model = Sequential()\n",
    "    #encoder\n",
    "    model.add(GRU(128, input_shape=input_shape[1:], return_sequences=False, dropout=0.1))\n",
    "    model.add(RepeatVector(output_sequence_length))\n",
    "    #decoder\n",
    "    model.add(GRU(128, return_sequences=True, dropout=0.1))\n",
    "    #output\n",
    "    model.add(TimeDistributed(Dense(french_vocab_size, activation='softmax') ))    \n",
    "    model.compile(loss=sparse_categorical_crossentropy,\n",
    "                  optimizer=Adam(0.1),\n",
    "                  metrics=['accuracy'])\n",
    "    return model\n",
    "tests.test_encdec_model(encdec_model)\n",
    "\n",
    "\n",
    "# OPTIONAL: Train and Print prediction(s)\n",
    "# Reshaping the input to work with a basic RNN\n",
    "tmp_x = pad(preproc_english_sentences)\n",
    "tmp_x = tmp_x.reshape((-1, preproc_english_sentences.shape[1], 1))\n",
    "\n",
    "# Train the neural network\n",
    "encdec_rnn_model = encdec_model(\n",
    "    tmp_x.shape,\n",
    "    preproc_french_sentences.shape[1],\n",
    "    len(english_tokenizer.word_index)+1,\n",
    "    len(french_tokenizer.word_index)+1)\n",
    "\n",
    "encdec_rnn_model.fit(tmp_x, preproc_french_sentences, batch_size=1024, epochs=20, validation_split=0.2)\n",
    "print(logits_to_text(encdec_rnn_model.predict(tmp_x[:1])[0], french_tokenizer))"
   ]
  },
  {
   "cell_type": "markdown",
   "metadata": {},
   "source": [
    "### Model 5: Custom (IMPLEMENTATION)\n",
    "Use everything you learned from the previous models to create a model that incorporates embedding and a bidirectional rnn into one model."
   ]
  },
  {
   "cell_type": "code",
   "execution_count": 16,
   "metadata": {},
   "outputs": [
    {
     "name": "stdout",
     "output_type": "stream",
     "text": [
      "**summary**\n",
      "_________________________________________________________________\n",
      "Layer (type)                 Output Shape              Param #   \n",
      "=================================================================\n",
      "embedding_3 (Embedding)      (None, 15, 128)           44032     \n",
      "_________________________________________________________________\n",
      "bidirectional_3 (Bidirection (None, 256)               197376    \n",
      "_________________________________________________________________\n",
      "repeat_vector_3 (RepeatVecto (None, 21, 256)           0         \n",
      "_________________________________________________________________\n",
      "bidirectional_4 (Bidirection (None, 21, 256)           295680    \n",
      "_________________________________________________________________\n",
      "time_distributed_5 (TimeDist (None, 21, 344)           88408     \n",
      "=================================================================\n",
      "Total params: 625,496\n",
      "Trainable params: 625,496\n",
      "Non-trainable params: 0\n",
      "_________________________________________________________________\n",
      "Final Model Loaded\n"
     ]
    }
   ],
   "source": [
    "def model_final(input_shape, output_sequence_length, english_vocab_size, french_vocab_size):\n",
    "    \"\"\"\n",
    "    Build and train a model that incorporates embedding, encoder-decoder, and bidirectional RNN on x and y\n",
    "    :param input_shape: Tuple of input shape\n",
    "    :param output_sequence_length: Length of output sequence\n",
    "    :param english_vocab_size: Number of unique English words in the dataset\n",
    "    :param french_vocab_size: Number of unique French words in the dataset\n",
    "    :return: Keras model built, but not trained\n",
    "    \"\"\"\n",
    "    # TODO: Implement\n",
    "    from keras.models import Sequential\n",
    "    vocab_size = max(english_vocab_size, french_vocab_size)\n",
    "    # OPTIONAL: Implement\n",
    "    model = Sequential()\n",
    "    model.add(Embedding(vocab_size, 128, input_length=input_shape[1]))\n",
    "    #encoder\n",
    "    model.add(Bidirectional(GRU(128, return_sequences=False)) )\n",
    "    model.add(RepeatVector(output_sequence_length))\n",
    "    #decoder\n",
    "    model.add(Bidirectional(GRU(128, return_sequences=True)) )\n",
    "    #output\n",
    "    model.add(TimeDistributed(Dense(french_vocab_size, activation='softmax') ))\n",
    "    \n",
    "    print('**summary**')\n",
    "    model.summary()\n",
    "    \n",
    "    model.compile(loss=sparse_categorical_crossentropy,\n",
    "                  optimizer=Adam(0.01),\n",
    "                  metrics=['accuracy'])\n",
    "    \n",
    "    return model\n",
    "tests.test_model_final(model_final)\n",
    "\n",
    "\n",
    "print('Final Model Loaded')"
   ]
  },
  {
   "cell_type": "markdown",
   "metadata": {},
   "source": [
    "## Prediction (IMPLEMENTATION)"
   ]
  },
  {
   "cell_type": "code",
   "execution_count": 18,
   "metadata": {},
   "outputs": [
    {
     "name": "stdout",
     "output_type": "stream",
     "text": [
      "**summary**\n",
      "_________________________________________________________________\n",
      "Layer (type)                 Output Shape              Param #   \n",
      "=================================================================\n",
      "embedding_4 (Embedding)      (None, 15, 128)           44160     \n",
      "_________________________________________________________________\n",
      "bidirectional_5 (Bidirection (None, 256)               197376    \n",
      "_________________________________________________________________\n",
      "repeat_vector_4 (RepeatVecto (None, 21, 256)           0         \n",
      "_________________________________________________________________\n",
      "bidirectional_6 (Bidirection (None, 21, 256)           295680    \n",
      "_________________________________________________________________\n",
      "time_distributed_6 (TimeDist (None, 21, 345)           88665     \n",
      "=================================================================\n",
      "Total params: 625,881\n",
      "Trainable params: 625,881\n",
      "Non-trainable params: 0\n",
      "_________________________________________________________________\n",
      "Train on 110288 samples, validate on 27573 samples\n",
      "Epoch 1/20\n",
      "110288/110288 [==============================] - 24s 222us/step - loss: 1.8728 - acc: 0.5576 - val_loss: 1.1781 - val_acc: 0.6817\n",
      "Epoch 2/20\n",
      "110288/110288 [==============================] - 23s 211us/step - loss: 0.8768 - acc: 0.7498 - val_loss: 0.6215 - val_acc: 0.8117\n",
      "Epoch 3/20\n",
      "110288/110288 [==============================] - 23s 211us/step - loss: 0.4338 - acc: 0.8705 - val_loss: 0.2957 - val_acc: 0.9165\n",
      "Epoch 4/20\n",
      "110288/110288 [==============================] - 23s 211us/step - loss: 0.2365 - acc: 0.9334 - val_loss: 0.2144 - val_acc: 0.9428\n",
      "Epoch 5/20\n",
      "110288/110288 [==============================] - 23s 211us/step - loss: 0.1786 - acc: 0.9493 - val_loss: 0.1675 - val_acc: 0.9522\n",
      "Epoch 6/20\n",
      "110288/110288 [==============================] - 23s 211us/step - loss: 0.1478 - acc: 0.9577 - val_loss: 0.1428 - val_acc: 0.9591\n",
      "Epoch 7/20\n",
      "110288/110288 [==============================] - 23s 211us/step - loss: 0.1295 - acc: 0.9623 - val_loss: 0.1369 - val_acc: 0.9602\n",
      "Epoch 8/20\n",
      "110288/110288 [==============================] - 23s 211us/step - loss: 0.1160 - acc: 0.9662 - val_loss: 0.1152 - val_acc: 0.9661\n",
      "Epoch 9/20\n",
      "110288/110288 [==============================] - 23s 210us/step - loss: 0.1032 - acc: 0.9696 - val_loss: 0.1185 - val_acc: 0.9661\n",
      "Epoch 10/20\n",
      "110288/110288 [==============================] - 23s 211us/step - loss: 0.1123 - acc: 0.9669 - val_loss: 0.1338 - val_acc: 0.9612\n",
      "Epoch 11/20\n",
      "110288/110288 [==============================] - 23s 212us/step - loss: 0.1098 - acc: 0.9675 - val_loss: 0.1066 - val_acc: 0.9690\n",
      "Epoch 12/20\n",
      "110288/110288 [==============================] - 23s 211us/step - loss: 0.1242 - acc: 0.9635 - val_loss: 0.1288 - val_acc: 0.9623\n",
      "Epoch 13/20\n",
      "110288/110288 [==============================] - 23s 211us/step - loss: 0.1205 - acc: 0.9641 - val_loss: 0.1393 - val_acc: 0.9593\n",
      "Epoch 14/20\n",
      "110288/110288 [==============================] - 23s 211us/step - loss: 0.1116 - acc: 0.9667 - val_loss: 0.1637 - val_acc: 0.9521\n",
      "Epoch 15/20\n",
      "110288/110288 [==============================] - 23s 212us/step - loss: 0.1932 - acc: 0.9425 - val_loss: 0.1781 - val_acc: 0.9476\n",
      "Epoch 16/20\n",
      "110288/110288 [==============================] - 23s 211us/step - loss: 0.1499 - acc: 0.9554 - val_loss: 0.1858 - val_acc: 0.9446\n",
      "Epoch 17/20\n",
      "110288/110288 [==============================] - 23s 211us/step - loss: 0.1364 - acc: 0.9590 - val_loss: 0.1322 - val_acc: 0.9604\n",
      "Epoch 18/20\n",
      "110288/110288 [==============================] - 23s 212us/step - loss: 0.1203 - acc: 0.9640 - val_loss: 0.1700 - val_acc: 0.9495\n",
      "Epoch 19/20\n",
      "110288/110288 [==============================] - 23s 211us/step - loss: 0.1577 - acc: 0.9531 - val_loss: 0.2226 - val_acc: 0.9332\n",
      "Epoch 20/20\n",
      "110288/110288 [==============================] - 23s 211us/step - loss: 0.1822 - acc: 0.9456 - val_loss: 0.1907 - val_acc: 0.9437\n",
      "Sample 1:\n",
      "il a vu un vieux camion jaune <PAD> <PAD> <PAD> <PAD> <PAD> <PAD> <PAD> <PAD> <PAD> <PAD> <PAD> <PAD> <PAD> <PAD>\n",
      "Il a vu un vieux camion jaune\n",
      "Sample 2:\n",
      "new jersey est parfois calme pendant l' automne et il est neigeux neigeux en <PAD> <PAD> <PAD> <PAD> <PAD> <PAD> <PAD>\n",
      "new jersey est parfois calme pendant l' automne et il est neigeux en avril <PAD> <PAD> <PAD> <PAD> <PAD> <PAD> <PAD>\n"
     ]
    }
   ],
   "source": [
    "def final_predictions(x, y, x_tk, y_tk):\n",
    "    \"\"\"\n",
    "    Gets predictions using the final model\n",
    "    :param x: Preprocessed English data\n",
    "    :param y: Preprocessed French data\n",
    "    :param x_tk: English tokenizer\n",
    "    :param y_tk: French tokenizer\n",
    "    \"\"\"\n",
    "    # TODO: Train neural network using model_final\n",
    "    X_input = pad(preproc_english_sentences)\n",
    "    \n",
    "    model = model_final(\n",
    "        X_input.shape,\n",
    "        preproc_french_sentences.shape[1],\n",
    "        len(english_tokenizer.word_index)+1,\n",
    "        len(french_tokenizer.word_index)+1)\n",
    "    \n",
    "    model.fit(X_input, preproc_french_sentences, batch_size=1024, epochs=20, validation_split=0.2)\n",
    "    \n",
    "    ## DON'T EDIT ANYTHING BELOW THIS LINE\n",
    "    y_id_to_word = {value: key for key, value in y_tk.word_index.items()}\n",
    "    y_id_to_word[0] = '<PAD>'\n",
    "\n",
    "    sentence = 'he saw a old yellow truck'\n",
    "    sentence = [x_tk.word_index[word] for word in sentence.split()]\n",
    "    sentence = pad_sequences([sentence], maxlen=x.shape[-1], padding='post')\n",
    "    sentences = np.array([sentence[0], x[0]])\n",
    "    predictions = model.predict(sentences, len(sentences))\n",
    "\n",
    "    print('Sample 1:')\n",
    "    print(' '.join([y_id_to_word[np.argmax(x)] for x in predictions[0]]))\n",
    "    print('Il a vu un vieux camion jaune')\n",
    "    print('Sample 2:')\n",
    "    print(' '.join([y_id_to_word[np.argmax(x)] for x in predictions[1]]))\n",
    "    print(' '.join([y_id_to_word[np.max(x)] for x in y[0]]))\n",
    "\n",
    "\n",
    "final_predictions(preproc_english_sentences, preproc_french_sentences, english_tokenizer, french_tokenizer)"
   ]
  },
  {
   "cell_type": "markdown",
   "metadata": {},
   "source": [
    "## Submission\n",
    "When you're ready to submit, complete the following steps:\n",
    "1. Review the [rubric](https://review.udacity.com/#!/rubrics/1004/view) to ensure your submission meets all requirements to pass\n",
    "2. Generate an HTML version of this notebook\n",
    "\n",
    "  - Run the next cell to attempt automatic generation (this is the recommended method in Workspaces)\n",
    "  - Navigate to **FILE -> Download as -> HTML (.html)**\n",
    "  - Manually generate a copy using `nbconvert` from your shell terminal\n",
    "```\n",
    "$ pip install nbconvert\n",
    "$ python -m nbconvert machine_translation.ipynb\n",
    "```\n",
    "  \n",
    "3. Submit the project\n",
    "\n",
    "  - If you are in a Workspace, simply click the \"Submit Project\" button (bottom towards the right)\n",
    "  \n",
    "  - Otherwise, add the following files into a zip archive and submit them \n",
    "  - `helper.py`\n",
    "  - `machine_translation.ipynb`\n",
    "  - `machine_translation.html`\n",
    "    - You can export the notebook by navigating to **File -> Download as -> HTML (.html)**."
   ]
  },
  {
   "cell_type": "markdown",
   "metadata": {},
   "source": [
    "### Generate the html\n",
    "\n",
    "**Save your notebook before running the next cell to generate the HTML output.** Then submit your project."
   ]
  },
  {
   "cell_type": "code",
   "execution_count": 19,
   "metadata": {},
   "outputs": [
    {
     "data": {
      "text/plain": [
       "['[NbConvertApp] Converting notebook machine_translation.ipynb to html',\n",
       " '[NbConvertApp] Writing 349638 bytes to machine_translation.html']"
      ]
     },
     "execution_count": 19,
     "metadata": {},
     "output_type": "execute_result"
    }
   ],
   "source": [
    "# Save before you run this cell!\n",
    "!!jupyter nbconvert *.ipynb"
   ]
  },
  {
   "cell_type": "markdown",
   "metadata": {},
   "source": [
    "## Optional Enhancements\n",
    "\n",
    "This project focuses on learning various network architectures for machine translation, but we don't evaluate the models according to best practices by splitting the data into separate test & training sets -- so the model accuracy is overstated. Use the [`sklearn.model_selection.train_test_split()`](http://scikit-learn.org/stable/modules/generated/sklearn.model_selection.train_test_split.html) function to create separate training & test datasets, then retrain each of the models using only the training set and evaluate the prediction accuracy using the hold out test set. Does the \"best\" model change?"
   ]
  }
 ],
 "metadata": {
  "kernelspec": {
   "display_name": "Python 3",
   "language": "python",
   "name": "python3"
  },
  "language_info": {
   "codemirror_mode": {
    "name": "ipython",
    "version": 3
   },
   "file_extension": ".py",
   "mimetype": "text/x-python",
   "name": "python",
   "nbconvert_exporter": "python",
   "pygments_lexer": "ipython3",
   "version": "3.6.3"
  }
 },
 "nbformat": 4,
 "nbformat_minor": 1
}
